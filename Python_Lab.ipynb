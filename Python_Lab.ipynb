{
  "cells": [
    {
      "cell_type": "markdown",
      "metadata": {
        "id": "view-in-github",
        "colab_type": "text"
      },
      "source": [
        "<a href=\"https://colab.research.google.com/github/keshavantalgit/python_labs/blob/main/Python_Lab.ipynb\" target=\"_parent\"><img src=\"https://colab.research.google.com/assets/colab-badge.svg\" alt=\"Open In Colab\"/></a>"
      ]
    },
    {
      "cell_type": "markdown",
      "source": [
        "# Lerning & Tutorial"
      ],
      "metadata": {
        "id": "XbLCA3eXnSAa"
      }
    },
    {
      "cell_type": "markdown",
      "source": [
        "### Palindrome Check"
      ],
      "metadata": {
        "id": "L4-NWyZQxe6l"
      }
    },
    {
      "cell_type": "code",
      "source": [
        "str1=input()\n",
        "str2=str1[::-1]\n",
        "if str1==str2:\n",
        "  print(\"it's palindrom\")\n",
        "else:\n",
        "  print(\"it's not palindrom\")"
      ],
      "metadata": {
        "colab": {
          "base_uri": "https://localhost:8080/"
        },
        "id": "ey9UxdumxM7B",
        "outputId": "6be9a147-356c-43b2-e9da-13d660ce47da"
      },
      "execution_count": null,
      "outputs": [
        {
          "output_type": "stream",
          "name": "stdout",
          "text": [
            "kesh\n",
            "it's not palindrom\n"
          ]
        }
      ]
    },
    {
      "cell_type": "markdown",
      "source": [
        "### Swap The Numbers"
      ],
      "metadata": {
        "id": "jAzvRpT0zxh2"
      }
    },
    {
      "cell_type": "code",
      "source": [
        "a=input()\n",
        "b=input()\n",
        "c=b\n",
        "b=a\n",
        "a=c\n",
        "print(\"value of a is =\",a)\n",
        "print(\"value of b is =\",b)"
      ],
      "metadata": {
        "colab": {
          "base_uri": "https://localhost:8080/"
        },
        "id": "g8Y0eWmGz7B5",
        "outputId": "cdf0ea1d-1a38-4ac0-bb9e-0a1ad569049f"
      },
      "execution_count": null,
      "outputs": [
        {
          "output_type": "stream",
          "name": "stdout",
          "text": [
            "5\n",
            "6\n",
            "value of a is = 6\n",
            "value of b is = 5\n"
          ]
        }
      ]
    }
  ],
  "metadata": {
    "colab": {
      "name": "Python-Lab",
      "toc_visible": true,
      "provenance": [],
      "include_colab_link": true
    },
    "kernelspec": {
      "display_name": "Python 3",
      "name": "python3"
    }
  },
  "nbformat": 4,
  "nbformat_minor": 0
}